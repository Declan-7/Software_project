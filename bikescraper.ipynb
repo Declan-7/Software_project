{
 "cells": [
  {
   "cell_type": "markdown",
   "id": "937fc345",
   "metadata": {},
   "source": [
    "# CODE"
   ]
  },
  {
   "cell_type": "code",
   "execution_count": null,
   "id": "1a7aab15",
   "metadata": {},
   "outputs": [],
   "source": [
    "import sqlalchemy as sqla\n",
    "from sqlalchemy import create_engine\n",
    "import traceback\n",
    "import glob\n",
    "import os\n",
    "from pprint import pprint\n",
    "import simplejson as json\n",
    "import requests\n",
    "import time\n",
    "from IPython.display import display\n",
    "import pymysql\n",
    "import sql_metadata\n",
    "from sqlalchemy import *\n",
    "import json\n",
    "import datetime as dt"
   ]
  },
  {
   "cell_type": "markdown",
   "id": "fe906792",
   "metadata": {},
   "source": [
    "# CREATE TABLE"
   ]
  },
  {
   "cell_type": "code",
   "execution_count": null,
   "id": "78a6dab6",
   "metadata": {},
   "outputs": [],
   "source": [
    "\n",
    "URL=\"dbike.cvo8g1gt1fco.eu-west-1.rds.amazonaws.com\"\n",
    "PORT=\"3306\"\n",
    "DB = \"dbike\"\n",
    "USER = \"group15\"\n",
    "PASSWORD = \"declanmingbo\"\n",
    "api_key = \"53c9b7d9148fef65635074fed863cc14f718219f\"\n",
    "r = requests.get(\"https://api.jcdecaux.com/vls/v1/stations?contract=dublin&apiKey=\" + api_key)"
   ]
  },
  {
   "cell_type": "code",
   "execution_count": null,
   "id": "d49615be",
   "metadata": {},
   "outputs": [],
   "source": [
    "engine = create_engine(\"mysql+pymysql://{}:{}@{}:{}/{}\".format(USER, PASSWORD, URL, PORT, DB), echo=True)\n",
    "sql = \"\"\"CREATE DATABASE IF NOT EXISTS dbike;\"\"\"\n",
    "engine.execute(sql)"
   ]
  },
  {
   "cell_type": "code",
   "execution_count": null,
   "id": "d92a6b21",
   "metadata": {
    "scrolled": false
   },
   "outputs": [],
   "source": [
    "for res in engine.execute(\"SHOW VARIABLES\"):\n",
    "    print(res)"
   ]
  },
  {
   "cell_type": "code",
   "execution_count": null,
   "id": "17b2ba88",
   "metadata": {},
   "outputs": [],
   "source": [
    "def initaldatabase():\n",
    "    sql = \"\"\"\n",
    "    CREATE TABLE IF NOT EXISTS station (\n",
    "    address VARCHAR(256) ,\n",
    "    banking INTEGER,\n",
    "    bike_stands INTEGER,\n",
    "    bonus INTEGER,\n",
    "    contract_name VARCHAR(256),\n",
    "    name VARCHAR(256),\n",
    "    number INTEGER,\n",
    "    position_lat REAL,\n",
    "    position_lng REAL,\n",
    "    status VARCHAR(256))\"\"\"\n",
    "    \n",
    "    try:\n",
    "        res = engine.execute (\"DROP TABLE IF EXISTS station\")\n",
    "        res = engine.execute(sql)\n",
    "        print(res)\n",
    "    except Exception as e:\n",
    "        print(e)\n",
    "        \n",
    "    sql= \"\"\"\n",
    "    CREATE TABLE IF NOT EXISTS availability (\n",
    "    number INTEGER,\n",
    "    available_bikes INTEGER,\n",
    "    available_bike_stands INTEGER,\n",
    "    last_update VARCHAR(256))\"\"\"\n",
    "    try:\n",
    "        res = engine.execute (\"DROP TABLE IF EXISTS availability\")\n",
    "        res = engine.execute(sql)\n",
    "        print(res)\n",
    "    except Exception as e:\n",
    "        print(e)\n",
    "    \n",
    "    station_insert()\n"
   ]
  },
  {
   "cell_type": "markdown",
   "id": "ef1e3d13",
   "metadata": {},
   "source": [
    "# INSERT DATA"
   ]
  },
  {
   "cell_type": "code",
   "execution_count": null,
   "id": "1f163afc",
   "metadata": {},
   "outputs": [],
   "source": [
    "def stations_to_db():\n",
    "    stationList=[]\n",
    "    stations = json.loads(r.text)\n",
    "    for station in stations:\n",
    "        vals_s = (station.get('address'), \n",
    "                int(station.get('banking')),\n",
    "                station.get('bike_stands'), \n",
    "                int(station.get('bonus')),\n",
    "                station.get('contract_name'),\n",
    "                station.get('name'),\n",
    "                station.get('number'),\n",
    "                station.get('position').get('lat'),\n",
    "                station.get('position').get('lng'),\n",
    "                station.get('status'))\n",
    "        stationList.append(vals_s)\n",
    "    return stationList\n",
    "\n"
   ]
  },
  {
   "cell_type": "code",
   "execution_count": null,
   "id": "b01a03b2",
   "metadata": {},
   "outputs": [],
   "source": [
    "def station_insert():\n",
    "    vals = stations_to_db()\n",
    "    try:\n",
    "        for val in vals:\n",
    "            engine.execute(\"INSERT INTO station values(%s,%s,%s,%s,%s,%s,%s,%s,%s,%s)\", val)\n",
    "            db.commit()\n",
    "            print(\"Insert correctly!\")\n",
    "    except Exception as e:\n",
    "        db.rollback()\n",
    "        print(e)"
   ]
  },
  {
   "cell_type": "code",
   "execution_count": null,
   "id": "0ff69e27",
   "metadata": {
    "scrolled": false
   },
   "outputs": [],
   "source": [
    "def availability_to_db():\n",
    "    availabilityList=[]\n",
    "    stations = json.loads(r.text)\n",
    "    for availability in stations:\n",
    "        vals_a = (availability.get('number'),\n",
    "               availability.get('available_bikes'),\n",
    "               availability.get('available_bike_stands'),\n",
    "               dt.datetime.fromtimestamp(int(availability.get('last_update') / 1e3)))\n",
    "        \n",
    "        availabilityList.append(vals_a)\n",
    "    return availabilityList"
   ]
  },
  {
   "cell_type": "code",
   "execution_count": null,
   "id": "21e8a4b0",
   "metadata": {},
   "outputs": [],
   "source": [
    "def availability_insert():\n",
    "    vala = availability_to_db()\n",
    "    try:\n",
    "        for val in vala:\n",
    "            sql = \"\"\"INSERT INTO dbike.availability (number,available_bikes,available_bike_stands,last_update) VALUE (%s,%s,%s,'%s')\"\"\" % val\n",
    "            engine.execute(sql)\n",
    "            print(\"Insert correctly!\")\n",
    "    except Exception as e:\n",
    "        print(e)\n",
    "        \n",
    "    db.close()"
   ]
  },
  {
   "cell_type": "code",
   "execution_count": null,
   "id": "b80fadc1",
   "metadata": {
    "scrolled": false
   },
   "outputs": [],
   "source": [
    "import requests \n",
    "import traceback \n",
    "import datetime\n",
    "import time\n",
    "import mysql\n",
    "from datetime import datetime\n",
    "\n",
    "import mysql.connector\n",
    "import sys\n",
    "\n",
    "URL=\"dbike.cvo8g1gt1fco.eu-west-1.rds.amazonaws.com\"\n",
    "PORT=3306\n",
    "DB = \"dbike\"\n",
    "USER = \"group15\"\n",
    "PASSWORD = \"declanmingbo\"\n",
    "\n",
    "db = pymysql.connect(\n",
    "    host=URL,\n",
    "    user=USER,\n",
    "    password=PASSWORD,\n",
    "    port=PORT,\n",
    "    database=DB)\n",
    "cursor = db.cursor()\n",
    "initaldatabase()\n",
    "db.close()\n",
    "while True:\n",
    "    \n",
    "    api_key = \"53c9b7d9148fef65635074fed863cc14f718219f\"\n",
    "    r = requests.get(\"https://api.jcdecaux.com/vls/v1/stations?contract=dublin&apiKey=\" + api_key)\n",
    "    \n",
    "    db = pymysql.connect(\n",
    "    host=URL,\n",
    "    user=USER,\n",
    "    password=PASSWORD,\n",
    "    port=PORT,\n",
    "    database=DB)\n",
    "    cursor = db.cursor()\n",
    "    \n",
    "    availability_insert()\n",
    "    \n",
    "    time.sleep(5*60)\n",
    "    \n",
    "    \n",
    "\n"
   ]
  },
  {
   "cell_type": "raw",
   "id": "5c1fa08e",
   "metadata": {},
   "source": [
    "# TEST CONNECTION"
   ]
  },
  {
   "cell_type": "raw",
   "id": "ce4a2e28",
   "metadata": {},
   "source": [
    "metadata = sqla.MetaData(bind=engine)\n",
    "print(metadata)\n",
    "station = sqla.Table('station', metadata, autoload=True)\n",
    "print(station)\n",
    "availability = sqla.Table('availability', metadata, autoload=True)\n",
    "print(availability)"
   ]
  },
  {
   "cell_type": "raw",
   "id": "e6584678",
   "metadata": {},
   "source": [
    "import pandas as pd\n",
    "df = pd.read_sql_table(\"station\", engine)"
   ]
  },
  {
   "cell_type": "raw",
   "id": "08c07e5e",
   "metadata": {},
   "source": [
    "display(df.head())"
   ]
  },
  {
   "cell_type": "raw",
   "id": "f3cb4fa4",
   "metadata": {},
   "source": [
    "sql = \"select count(*) from availability;\"\n",
    "print(engine.execute(sql).fetchall())"
   ]
  },
  {
   "cell_type": "raw",
   "id": "bfcb93e7",
   "metadata": {},
   "source": [
    "sql = \"select name from station limit 10;\"\n",
    "for row in engine.execute(sql):\n",
    "    print(row)"
   ]
  },
  {
   "cell_type": "code",
   "execution_count": null,
   "id": "88798811",
   "metadata": {},
   "outputs": [],
   "source": []
  },
  {
   "cell_type": "code",
   "execution_count": null,
   "id": "dfa2a8df",
   "metadata": {},
   "outputs": [],
   "source": []
  },
  {
   "cell_type": "code",
   "execution_count": null,
   "id": "b8880abe",
   "metadata": {},
   "outputs": [],
   "source": []
  },
  {
   "cell_type": "code",
   "execution_count": null,
   "id": "95d41999",
   "metadata": {},
   "outputs": [],
   "source": []
  },
  {
   "cell_type": "code",
   "execution_count": null,
   "id": "988f1a3e",
   "metadata": {},
   "outputs": [],
   "source": []
  }
 ],
 "metadata": {
  "kernelspec": {
   "display_name": "Python 3 (ipykernel)",
   "language": "python",
   "name": "python3"
  },
  "language_info": {
   "codemirror_mode": {
    "name": "ipython",
    "version": 3
   },
   "file_extension": ".py",
   "mimetype": "text/x-python",
   "name": "python",
   "nbconvert_exporter": "python",
   "pygments_lexer": "ipython3",
   "version": "3.9.7"
  }
 },
 "nbformat": 4,
 "nbformat_minor": 5
}
