{
 "cells": [
  {
   "cell_type": "markdown",
   "id": "c164b7b4",
   "metadata": {},
   "source": [
    "# CODE"
   ]
  },
  {
   "cell_type": "code",
   "execution_count": null,
   "id": "a1c41d85",
   "metadata": {},
   "outputs": [],
   "source": [
    "import pymysql \n",
    "import traceback\n",
    "import requests\n",
    "import time\n",
    "from datetime import datetime\n",
    "import json"
   ]
  },
  {
   "cell_type": "markdown",
   "id": "acaee5a6",
   "metadata": {},
   "source": [
    "# CREATE TABLE"
   ]
  },
  {
   "cell_type": "code",
   "execution_count": null,
   "id": "882eaa1c",
   "metadata": {},
   "outputs": [],
   "source": [
    "api_key = \"e857655954f34ae188982244bbb23b21\"\n",
    "city_name = 'Dublin,ie'\n",
    "parameters = {\"q\" : city_name, \"appid\" : api_key} \n",
    "WEATHER_URL = \"http://api.openweathermap.org/data/2.5/weather\" \n",
    "\n",
    "def create_table():\n",
    "    sql = \"\"\"\n",
    "    CREATE TABLE IF NOT EXISTS weather(\n",
    "        Clouds INTEGER,\n",
    "        feels_like DOUBLE,\n",
    "        humidity INTEGER,\n",
    "        pressure INTEGER,\n",
    "        temp DOUBLE,\n",
    "        temp_max DOUBLE,\n",
    "        temp_min DOUBLE,\n",
    "        sunrise VARCHAR(255),\n",
    "        sunset VARCHAR(255),\n",
    "        visibility INTEGER,\n",
    "        weather_description VARCHAR(255),\n",
    "        weather_main VARCHAR(255),\n",
    "        wind_deg INTEGER,\n",
    "        wind_speed DOUBLE,\n",
    "        dt VARCHAR(255)\n",
    "    );\n",
    "    \"\"\"\n",
    "        \n",
    "    try:\n",
    "        res = cursor.execute(sql)\n",
    "        print('Created successfully!')\n",
    "    except Exception as e:\n",
    "        print(e)\n",
    "        "
   ]
  },
  {
   "cell_type": "markdown",
   "id": "d933b3ac",
   "metadata": {},
   "source": [
    "# INSERT DATA"
   ]
  },
  {
   "cell_type": "code",
   "execution_count": null,
   "id": "37cca607",
   "metadata": {},
   "outputs": [],
   "source": [
    "def write_to_db(text):\n",
    "    weather_data = json.loads(text)\n",
    "    \n",
    "    weather_vals = (\n",
    "        str(weather_data['clouds']['all']),\n",
    "        str(weather_data['main']['feels_like']),\n",
    "        str(weather_data['main']['humidity']),\n",
    "        str(weather_data['main']['pressure']),\n",
    "        str(weather_data['main']['temp']),\n",
    "        str(weather_data['main']['temp_max']),\n",
    "        str(weather_data['main']['temp_min']),\n",
    "        str(datetime.fromtimestamp(weather_data['sys']['sunrise'])),\n",
    "        str(datetime.fromtimestamp(weather_data['sys']['sunset'])),\n",
    "        str(weather_data['visibility']),\n",
    "        str(weather_data['weather'][0]['description']),\n",
    "        str(weather_data['weather'][0]['main']),\n",
    "        str(weather_data['wind']['deg']),\n",
    "        str(weather_data['wind']['speed']),\n",
    "        str(datetime.fromtimestamp(weather_data['dt']))\n",
    "    )\n",
    "    \n",
    "    sql = \"\"\"INSERT INTO dbike.weather (Clouds,feels_like,humidity,pressure,\n",
    "    temp,temp_max,temp_min,sunrise,sunset,visibility,weather_description,\n",
    "    weather_main,wind_deg,wind_speed,dt) \n",
    "    VALUES ('%s','%s','%s','%s','%s','%s','%s','%s','%s','%s',\n",
    "    '%s','%s','%s','%s','%s')\"\"\" % weather_vals\n",
    "    \n",
    "    try:\n",
    "        cursor.execute(sql)\n",
    "        db.commit()\n",
    "        print(\"Insert successfully\")\n",
    "    except:\n",
    "        db.rollback()\n",
    "        print(\"Insert wrong\")\n",
    "    \n",
    "    db.close()"
   ]
  },
  {
   "cell_type": "code",
   "execution_count": null,
   "id": "55b6f018",
   "metadata": {},
   "outputs": [],
   "source": [
    "DATABASE_URL=\"dbike.cvo8g1gt1fco.eu-west-1.rds.amazonaws.com\"\n",
    "PORT= 3306\n",
    "DB = \"dbike\"\n",
    "USER = \"group15\"\n",
    "PASSWORD = \"declanmingbo\"\n",
    "while True:\n",
    "    try:\n",
    "        db = pymysql.connect(\n",
    "            host=DATABASE_URL,\n",
    "            user=USER,\n",
    "            password=PASSWORD,\n",
    "            port=PORT,\n",
    "            database=DB)\n",
    "        cursor = db.cursor()  \n",
    "            \n",
    "        create_table()\n",
    "\n",
    "        now = datetime.now()\n",
    "        r = requests.get(WEATHER_URL, params = parameters)\n",
    "        print(r,now)\n",
    "            \n",
    "        write_to_db(r.text)\n",
    "            \n",
    "        time.sleep(60*60)\n",
    "        \n",
    "    except:\n",
    "        print(traceback.format_exc())    "
   ]
  },
  {
   "cell_type": "code",
   "execution_count": null,
   "id": "0547f99c",
   "metadata": {},
   "outputs": [],
   "source": []
  },
  {
   "cell_type": "code",
   "execution_count": null,
   "id": "70f9664a",
   "metadata": {},
   "outputs": [],
   "source": []
  },
  {
   "cell_type": "code",
   "execution_count": null,
   "id": "1263ee9a",
   "metadata": {},
   "outputs": [],
   "source": []
  },
  {
   "cell_type": "code",
   "execution_count": null,
   "id": "6e0e732f",
   "metadata": {},
   "outputs": [],
   "source": []
  },
  {
   "cell_type": "code",
   "execution_count": null,
   "id": "a500fb37",
   "metadata": {},
   "outputs": [],
   "source": []
  },
  {
   "cell_type": "code",
   "execution_count": null,
   "id": "048685d7",
   "metadata": {},
   "outputs": [],
   "source": []
  },
  {
   "cell_type": "code",
   "execution_count": null,
   "id": "176b3bfa",
   "metadata": {},
   "outputs": [],
   "source": []
  },
  {
   "cell_type": "code",
   "execution_count": null,
   "id": "9830dcfe",
   "metadata": {},
   "outputs": [],
   "source": []
  },
  {
   "cell_type": "code",
   "execution_count": null,
   "id": "72353ac4",
   "metadata": {},
   "outputs": [],
   "source": []
  },
  {
   "cell_type": "code",
   "execution_count": null,
   "id": "8f2deff0",
   "metadata": {},
   "outputs": [],
   "source": []
  },
  {
   "cell_type": "code",
   "execution_count": null,
   "id": "3c06c480",
   "metadata": {},
   "outputs": [],
   "source": []
  }
 ],
 "metadata": {
  "kernelspec": {
   "display_name": "Python 3 (ipykernel)",
   "language": "python",
   "name": "python3"
  },
  "language_info": {
   "codemirror_mode": {
    "name": "ipython",
    "version": 3
   },
   "file_extension": ".py",
   "mimetype": "text/x-python",
   "name": "python",
   "nbconvert_exporter": "python",
   "pygments_lexer": "ipython3",
   "version": "3.9.7"
  }
 },
 "nbformat": 4,
 "nbformat_minor": 5
}
