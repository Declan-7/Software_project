{
 "cells": [
  {
   "cell_type": "code",
   "execution_count": 1,
   "id": "a2635ece",
   "metadata": {},
   "outputs": [],
   "source": [
    "import os\n",
    "import pymysql\n",
    "import pandas as pd\n",
    "import sys\n",
    "\n",
    "\n",
    "import numpy as np\n",
    "import seaborn as sns\n",
    "from sklearn import metrics\n",
    "from sklearn.linear_model import LinearRegression\n",
    "from sklearn.model_selection import train_test_split\n",
    "\n",
    "\n",
    "import matplotlib.pyplot as plt\n",
    "import matplotlib.patches as mpatches\n",
    "\n",
    "%matplotlib inline"
   ]
  },
  {
   "cell_type": "code",
   "execution_count": null,
   "id": "97f6808a",
   "metadata": {},
   "outputs": [],
   "source": []
  },
  {
   "cell_type": "code",
   "execution_count": 2,
   "id": "6f84a769",
   "metadata": {},
   "outputs": [
    {
     "data": {
      "text/html": [
       "<div>\n",
       "<style scoped>\n",
       "    .dataframe tbody tr th:only-of-type {\n",
       "        vertical-align: middle;\n",
       "    }\n",
       "\n",
       "    .dataframe tbody tr th {\n",
       "        vertical-align: top;\n",
       "    }\n",
       "\n",
       "    .dataframe thead th {\n",
       "        text-align: right;\n",
       "    }\n",
       "</style>\n",
       "<table border=\"1\" class=\"dataframe\">\n",
       "  <thead>\n",
       "    <tr style=\"text-align: right;\">\n",
       "      <th></th>\n",
       "      <th>number</th>\n",
       "      <th>last_update</th>\n",
       "      <th>available_bikes</th>\n",
       "      <th>available_bike_stands</th>\n",
       "      <th>status</th>\n",
       "    </tr>\n",
       "  </thead>\n",
       "  <tbody>\n",
       "    <tr>\n",
       "      <th>0</th>\n",
       "      <td>11</td>\n",
       "      <td>01/02/2022 00:00</td>\n",
       "      <td>22</td>\n",
       "      <td>8</td>\n",
       "      <td>OPEN</td>\n",
       "    </tr>\n",
       "    <tr>\n",
       "      <th>1</th>\n",
       "      <td>39</td>\n",
       "      <td>01/02/2022 00:00</td>\n",
       "      <td>5</td>\n",
       "      <td>15</td>\n",
       "      <td>OPEN</td>\n",
       "    </tr>\n",
       "    <tr>\n",
       "      <th>2</th>\n",
       "      <td>42</td>\n",
       "      <td>01/02/2022 00:00</td>\n",
       "      <td>22</td>\n",
       "      <td>8</td>\n",
       "      <td>OPEN</td>\n",
       "    </tr>\n",
       "    <tr>\n",
       "      <th>3</th>\n",
       "      <td>13</td>\n",
       "      <td>01/02/2022 00:00</td>\n",
       "      <td>22</td>\n",
       "      <td>8</td>\n",
       "      <td>OPEN</td>\n",
       "    </tr>\n",
       "    <tr>\n",
       "      <th>4</th>\n",
       "      <td>88</td>\n",
       "      <td>01/02/2022 00:00</td>\n",
       "      <td>19</td>\n",
       "      <td>11</td>\n",
       "      <td>OPEN</td>\n",
       "    </tr>\n",
       "    <tr>\n",
       "      <th>5</th>\n",
       "      <td>7</td>\n",
       "      <td>01/02/2022 00:00</td>\n",
       "      <td>7</td>\n",
       "      <td>22</td>\n",
       "      <td>OPEN</td>\n",
       "    </tr>\n",
       "    <tr>\n",
       "      <th>6</th>\n",
       "      <td>3</td>\n",
       "      <td>01/02/2022 00:00</td>\n",
       "      <td>12</td>\n",
       "      <td>8</td>\n",
       "      <td>OPEN</td>\n",
       "    </tr>\n",
       "    <tr>\n",
       "      <th>7</th>\n",
       "      <td>71</td>\n",
       "      <td>01/02/2022 00:00</td>\n",
       "      <td>33</td>\n",
       "      <td>7</td>\n",
       "      <td>OPEN</td>\n",
       "    </tr>\n",
       "    <tr>\n",
       "      <th>8</th>\n",
       "      <td>38</td>\n",
       "      <td>01/02/2022 00:00</td>\n",
       "      <td>26</td>\n",
       "      <td>14</td>\n",
       "      <td>OPEN</td>\n",
       "    </tr>\n",
       "    <tr>\n",
       "      <th>9</th>\n",
       "      <td>90</td>\n",
       "      <td>01/02/2022 00:00</td>\n",
       "      <td>11</td>\n",
       "      <td>29</td>\n",
       "      <td>OPEN</td>\n",
       "    </tr>\n",
       "  </tbody>\n",
       "</table>\n",
       "</div>"
      ],
      "text/plain": [
       "   number       last_update  available_bikes  available_bike_stands status\n",
       "0      11  01/02/2022 00:00               22                      8   OPEN\n",
       "1      39  01/02/2022 00:00                5                     15   OPEN\n",
       "2      42  01/02/2022 00:00               22                      8   OPEN\n",
       "3      13  01/02/2022 00:00               22                      8   OPEN\n",
       "4      88  01/02/2022 00:00               19                     11   OPEN\n",
       "5       7  01/02/2022 00:00                7                     22   OPEN\n",
       "6       3  01/02/2022 00:00               12                      8   OPEN\n",
       "7      71  01/02/2022 00:00               33                      7   OPEN\n",
       "8      38  01/02/2022 00:00               26                     14   OPEN\n",
       "9      90  01/02/2022 00:00               11                     29   OPEN"
      ]
     },
     "execution_count": 2,
     "metadata": {},
     "output_type": "execute_result"
    }
   ],
   "source": [
    "df_bike = pd.read_csv(\"availability.csv\")\n",
    "df_bike.head(10)"
   ]
  },
  {
   "cell_type": "code",
   "execution_count": null,
   "id": "9362c0fa",
   "metadata": {},
   "outputs": [],
   "source": []
  },
  {
   "cell_type": "code",
   "execution_count": 3,
   "id": "9dd3acbf",
   "metadata": {
    "scrolled": false
   },
   "outputs": [
    {
     "data": {
      "text/html": [
       "<div>\n",
       "<style scoped>\n",
       "    .dataframe tbody tr th:only-of-type {\n",
       "        vertical-align: middle;\n",
       "    }\n",
       "\n",
       "    .dataframe tbody tr th {\n",
       "        vertical-align: top;\n",
       "    }\n",
       "\n",
       "    .dataframe thead th {\n",
       "        text-align: right;\n",
       "    }\n",
       "</style>\n",
       "<table border=\"1\" class=\"dataframe\">\n",
       "  <thead>\n",
       "    <tr style=\"text-align: right;\">\n",
       "      <th></th>\n",
       "      <th>dt</th>\n",
       "      <th>feels_like</th>\n",
       "      <th>humidity</th>\n",
       "      <th>pressure</th>\n",
       "      <th>sunrise</th>\n",
       "      <th>sunset</th>\n",
       "      <th>temp</th>\n",
       "      <th>uvi</th>\n",
       "      <th>weather_id</th>\n",
       "      <th>wind_gust</th>\n",
       "      <th>wind_speed</th>\n",
       "      <th>rain_1h</th>\n",
       "      <th>snow_1h</th>\n",
       "    </tr>\n",
       "  </thead>\n",
       "  <tbody>\n",
       "    <tr>\n",
       "      <th>0</th>\n",
       "      <td>01/02/2022 00:30</td>\n",
       "      <td>279.62</td>\n",
       "      <td>83</td>\n",
       "      <td>1024</td>\n",
       "      <td>01/02/2022 08:09</td>\n",
       "      <td>01/02/2022 17:07</td>\n",
       "      <td>282.61</td>\n",
       "      <td>0.0</td>\n",
       "      <td>803</td>\n",
       "      <td>14.75</td>\n",
       "      <td>6.26</td>\n",
       "      <td>0.0</td>\n",
       "      <td>0.0</td>\n",
       "    </tr>\n",
       "    <tr>\n",
       "      <th>1</th>\n",
       "      <td>01/02/2022 01:00</td>\n",
       "      <td>279.61</td>\n",
       "      <td>84</td>\n",
       "      <td>1024</td>\n",
       "      <td>01/02/2022 08:09</td>\n",
       "      <td>01/02/2022 17:07</td>\n",
       "      <td>282.60</td>\n",
       "      <td>0.0</td>\n",
       "      <td>803</td>\n",
       "      <td>13.41</td>\n",
       "      <td>6.26</td>\n",
       "      <td>0.0</td>\n",
       "      <td>0.0</td>\n",
       "    </tr>\n",
       "    <tr>\n",
       "      <th>2</th>\n",
       "      <td>01/02/2022 01:30</td>\n",
       "      <td>279.34</td>\n",
       "      <td>86</td>\n",
       "      <td>1024</td>\n",
       "      <td>01/02/2022 08:09</td>\n",
       "      <td>01/02/2022 17:07</td>\n",
       "      <td>282.60</td>\n",
       "      <td>0.0</td>\n",
       "      <td>803</td>\n",
       "      <td>13.41</td>\n",
       "      <td>7.15</td>\n",
       "      <td>0.0</td>\n",
       "      <td>0.0</td>\n",
       "    </tr>\n",
       "    <tr>\n",
       "      <th>3</th>\n",
       "      <td>01/02/2022 02:00</td>\n",
       "      <td>279.21</td>\n",
       "      <td>87</td>\n",
       "      <td>1024</td>\n",
       "      <td>01/02/2022 08:09</td>\n",
       "      <td>01/02/2022 17:07</td>\n",
       "      <td>282.60</td>\n",
       "      <td>0.0</td>\n",
       "      <td>803</td>\n",
       "      <td>12.96</td>\n",
       "      <td>7.60</td>\n",
       "      <td>0.0</td>\n",
       "      <td>0.0</td>\n",
       "    </tr>\n",
       "    <tr>\n",
       "      <th>4</th>\n",
       "      <td>01/02/2022 02:30</td>\n",
       "      <td>279.38</td>\n",
       "      <td>90</td>\n",
       "      <td>1024</td>\n",
       "      <td>01/02/2022 08:09</td>\n",
       "      <td>01/02/2022 17:07</td>\n",
       "      <td>282.42</td>\n",
       "      <td>0.0</td>\n",
       "      <td>300</td>\n",
       "      <td>12.52</td>\n",
       "      <td>6.26</td>\n",
       "      <td>0.0</td>\n",
       "      <td>0.0</td>\n",
       "    </tr>\n",
       "    <tr>\n",
       "      <th>5</th>\n",
       "      <td>01/02/2022 03:00</td>\n",
       "      <td>278.98</td>\n",
       "      <td>91</td>\n",
       "      <td>1024</td>\n",
       "      <td>01/02/2022 08:09</td>\n",
       "      <td>01/02/2022 17:07</td>\n",
       "      <td>282.11</td>\n",
       "      <td>0.0</td>\n",
       "      <td>300</td>\n",
       "      <td>12.07</td>\n",
       "      <td>6.26</td>\n",
       "      <td>0.0</td>\n",
       "      <td>0.0</td>\n",
       "    </tr>\n",
       "    <tr>\n",
       "      <th>6</th>\n",
       "      <td>01/02/2022 03:30</td>\n",
       "      <td>278.85</td>\n",
       "      <td>92</td>\n",
       "      <td>1024</td>\n",
       "      <td>01/02/2022 08:09</td>\n",
       "      <td>01/02/2022 17:07</td>\n",
       "      <td>282.22</td>\n",
       "      <td>0.0</td>\n",
       "      <td>300</td>\n",
       "      <td>14.75</td>\n",
       "      <td>7.15</td>\n",
       "      <td>0.0</td>\n",
       "      <td>0.0</td>\n",
       "    </tr>\n",
       "    <tr>\n",
       "      <th>7</th>\n",
       "      <td>01/02/2022 04:00</td>\n",
       "      <td>278.77</td>\n",
       "      <td>92</td>\n",
       "      <td>1023</td>\n",
       "      <td>01/02/2022 08:09</td>\n",
       "      <td>01/02/2022 17:07</td>\n",
       "      <td>282.26</td>\n",
       "      <td>0.0</td>\n",
       "      <td>300</td>\n",
       "      <td>14.75</td>\n",
       "      <td>7.60</td>\n",
       "      <td>0.0</td>\n",
       "      <td>0.0</td>\n",
       "    </tr>\n",
       "    <tr>\n",
       "      <th>8</th>\n",
       "      <td>01/02/2022 04:30</td>\n",
       "      <td>278.94</td>\n",
       "      <td>92</td>\n",
       "      <td>1023</td>\n",
       "      <td>01/02/2022 08:09</td>\n",
       "      <td>01/02/2022 17:07</td>\n",
       "      <td>282.39</td>\n",
       "      <td>0.0</td>\n",
       "      <td>300</td>\n",
       "      <td>12.96</td>\n",
       "      <td>7.60</td>\n",
       "      <td>0.0</td>\n",
       "      <td>0.0</td>\n",
       "    </tr>\n",
       "    <tr>\n",
       "      <th>9</th>\n",
       "      <td>01/02/2022 05:30</td>\n",
       "      <td>279.46</td>\n",
       "      <td>95</td>\n",
       "      <td>1023</td>\n",
       "      <td>01/02/2022 08:09</td>\n",
       "      <td>01/02/2022 17:07</td>\n",
       "      <td>282.59</td>\n",
       "      <td>0.0</td>\n",
       "      <td>300</td>\n",
       "      <td>12.52</td>\n",
       "      <td>6.71</td>\n",
       "      <td>0.0</td>\n",
       "      <td>0.0</td>\n",
       "    </tr>\n",
       "  </tbody>\n",
       "</table>\n",
       "</div>"
      ],
      "text/plain": [
       "                 dt  feels_like  humidity  pressure           sunrise  \\\n",
       "0  01/02/2022 00:30      279.62        83      1024  01/02/2022 08:09   \n",
       "1  01/02/2022 01:00      279.61        84      1024  01/02/2022 08:09   \n",
       "2  01/02/2022 01:30      279.34        86      1024  01/02/2022 08:09   \n",
       "3  01/02/2022 02:00      279.21        87      1024  01/02/2022 08:09   \n",
       "4  01/02/2022 02:30      279.38        90      1024  01/02/2022 08:09   \n",
       "5  01/02/2022 03:00      278.98        91      1024  01/02/2022 08:09   \n",
       "6  01/02/2022 03:30      278.85        92      1024  01/02/2022 08:09   \n",
       "7  01/02/2022 04:00      278.77        92      1023  01/02/2022 08:09   \n",
       "8  01/02/2022 04:30      278.94        92      1023  01/02/2022 08:09   \n",
       "9  01/02/2022 05:30      279.46        95      1023  01/02/2022 08:09   \n",
       "\n",
       "             sunset    temp  uvi  weather_id  wind_gust  wind_speed  rain_1h  \\\n",
       "0  01/02/2022 17:07  282.61  0.0         803      14.75        6.26      0.0   \n",
       "1  01/02/2022 17:07  282.60  0.0         803      13.41        6.26      0.0   \n",
       "2  01/02/2022 17:07  282.60  0.0         803      13.41        7.15      0.0   \n",
       "3  01/02/2022 17:07  282.60  0.0         803      12.96        7.60      0.0   \n",
       "4  01/02/2022 17:07  282.42  0.0         300      12.52        6.26      0.0   \n",
       "5  01/02/2022 17:07  282.11  0.0         300      12.07        6.26      0.0   \n",
       "6  01/02/2022 17:07  282.22  0.0         300      14.75        7.15      0.0   \n",
       "7  01/02/2022 17:07  282.26  0.0         300      14.75        7.60      0.0   \n",
       "8  01/02/2022 17:07  282.39  0.0         300      12.96        7.60      0.0   \n",
       "9  01/02/2022 17:07  282.59  0.0         300      12.52        6.71      0.0   \n",
       "\n",
       "   snow_1h  \n",
       "0      0.0  \n",
       "1      0.0  \n",
       "2      0.0  \n",
       "3      0.0  \n",
       "4      0.0  \n",
       "5      0.0  \n",
       "6      0.0  \n",
       "7      0.0  \n",
       "8      0.0  \n",
       "9      0.0  "
      ]
     },
     "execution_count": 3,
     "metadata": {},
     "output_type": "execute_result"
    }
   ],
   "source": [
    "df_weather = pd.read_csv(\"current.csv\")\n",
    "df_weather.head(10)"
   ]
  },
  {
   "cell_type": "markdown",
   "id": "dc706d9b",
   "metadata": {},
   "source": [
    "# Prepare Data"
   ]
  },
  {
   "cell_type": "code",
   "execution_count": 4,
   "id": "492dae44",
   "metadata": {},
   "outputs": [
    {
     "data": {
      "text/plain": [
       "(2141, 13)"
      ]
     },
     "execution_count": 4,
     "metadata": {},
     "output_type": "execute_result"
    }
   ],
   "source": [
    "# Bikes data\n",
    "df_bike['last_update'].describe().T\n",
    "df_bike.drop_duplicates(subset=['last_update'], keep='first', inplace=True)\n",
    "df_bike['last_update'].describe().T\n",
    "\n",
    "# Weather data\n",
    "df_weather['dt'].describe().T\n",
    "df_weather.drop_duplicates(subset=['dt'], keep='first', inplace=True)\n",
    "df_weather['dt'].describe().T\n",
    "\n",
    "df_bike.shape\n",
    "df_weather.shape"
   ]
  },
  {
   "cell_type": "code",
   "execution_count": 5,
   "id": "bdd3413c",
   "metadata": {},
   "outputs": [],
   "source": [
    "df_bike['last_update'] = pd.to_datetime(df_bike['last_update'])\n",
    "df_weather['dt'] = pd.to_datetime(df_weather['dt'])"
   ]
  },
  {
   "cell_type": "code",
   "execution_count": 6,
   "id": "8d7f87ab",
   "metadata": {},
   "outputs": [],
   "source": [
    "df_weather['weather_id'] = df_weather['weather_id'].astype('object')"
   ]
  },
  {
   "cell_type": "code",
   "execution_count": 7,
   "id": "905c72db",
   "metadata": {},
   "outputs": [],
   "source": [
    "categoric_columns = df_weather[['weather_id']].columns"
   ]
  },
  {
   "cell_type": "code",
   "execution_count": 8,
   "id": "957b0ab4",
   "metadata": {},
   "outputs": [
    {
     "name": "stdout",
     "output_type": "stream",
     "text": [
      "803    987\n",
      "801    422\n",
      "802    299\n",
      "800    119\n",
      "500     88\n",
      "501     60\n",
      "300     58\n",
      "741     30\n",
      "701     22\n",
      "804     21\n",
      "520     18\n",
      "502      9\n",
      "310      5\n",
      "620      1\n",
      "600      1\n",
      "721      1\n",
      "Name: weather_id, dtype: int64\n"
     ]
    }
   ],
   "source": [
    "item_counts = df_weather[\"weather_id\"].value_counts()\n",
    "print(item_counts)"
   ]
  },
  {
   "cell_type": "code",
   "execution_count": 9,
   "id": "edd4f476",
   "metadata": {},
   "outputs": [],
   "source": [
    "df_weather['weather_id'].replace(300,'light intensity drizzle', inplace = True)\n",
    "df_weather['weather_id'].replace(310,'light intensity drizzle rain', inplace = True)\n",
    "df_weather['weather_id'].replace(500,'light rain', inplace = True)\n",
    "df_weather['weather_id'].replace(501,'moderate rain', inplace = True)\n",
    "df_weather['weather_id'].replace(502,'heavy intensity rain', inplace = True)\n",
    "df_weather['weather_id'].replace(520,'light intensity shower rain', inplace = True)\n",
    "df_weather['weather_id'].replace(600,'light snow', inplace = True)\n",
    "df_weather['weather_id'].replace(620,'light shower snow', inplace = True)\n",
    "df_weather['weather_id'].replace(701,'mist', inplace = True)\n",
    "df_weather['weather_id'].replace(721,'haze', inplace = True)\n",
    "df_weather['weather_id'].replace(741,'fog', inplace = True)\n",
    "df_weather['weather_id'].replace(800,'clear sky', inplace = True)\n",
    "df_weather['weather_id'].replace(801,'few clouds', inplace = True)\n",
    "df_weather['weather_id'].replace(802,'scattered clouds', inplace = True)\n",
    "df_weather['weather_id'].replace(803,'broken clouds', inplace = True)\n",
    "df_weather['weather_id'].replace(804,'overcast clouds', inplace = True)"
   ]
  },
  {
   "cell_type": "code",
   "execution_count": 10,
   "id": "cd07d3cd",
   "metadata": {},
   "outputs": [],
   "source": [
    "## reference: https://gist.github.com/tbranyen/62d974681dea8ee0caa1"
   ]
  },
  {
   "cell_type": "code",
   "execution_count": 11,
   "id": "50ea402b",
   "metadata": {},
   "outputs": [
    {
     "data": {
      "text/html": [
       "<div>\n",
       "<style scoped>\n",
       "    .dataframe tbody tr th:only-of-type {\n",
       "        vertical-align: middle;\n",
       "    }\n",
       "\n",
       "    .dataframe tbody tr th {\n",
       "        vertical-align: top;\n",
       "    }\n",
       "\n",
       "    .dataframe thead th {\n",
       "        text-align: right;\n",
       "    }\n",
       "</style>\n",
       "<table border=\"1\" class=\"dataframe\">\n",
       "  <thead>\n",
       "    <tr style=\"text-align: right;\">\n",
       "      <th></th>\n",
       "      <th>dt</th>\n",
       "      <th>feels_like</th>\n",
       "      <th>humidity</th>\n",
       "      <th>pressure</th>\n",
       "      <th>sunrise</th>\n",
       "      <th>sunset</th>\n",
       "      <th>temp</th>\n",
       "      <th>uvi</th>\n",
       "      <th>weather_id</th>\n",
       "      <th>wind_gust</th>\n",
       "      <th>wind_speed</th>\n",
       "      <th>rain_1h</th>\n",
       "      <th>snow_1h</th>\n",
       "    </tr>\n",
       "  </thead>\n",
       "  <tbody>\n",
       "    <tr>\n",
       "      <th>0</th>\n",
       "      <td>2022-01-02 00:30:00</td>\n",
       "      <td>279.62</td>\n",
       "      <td>83</td>\n",
       "      <td>1024</td>\n",
       "      <td>01/02/2022 08:09</td>\n",
       "      <td>01/02/2022 17:07</td>\n",
       "      <td>282.61</td>\n",
       "      <td>0.0</td>\n",
       "      <td>broken clouds</td>\n",
       "      <td>14.75</td>\n",
       "      <td>6.26</td>\n",
       "      <td>0.0</td>\n",
       "      <td>0.0</td>\n",
       "    </tr>\n",
       "    <tr>\n",
       "      <th>1</th>\n",
       "      <td>2022-01-02 01:00:00</td>\n",
       "      <td>279.61</td>\n",
       "      <td>84</td>\n",
       "      <td>1024</td>\n",
       "      <td>01/02/2022 08:09</td>\n",
       "      <td>01/02/2022 17:07</td>\n",
       "      <td>282.60</td>\n",
       "      <td>0.0</td>\n",
       "      <td>broken clouds</td>\n",
       "      <td>13.41</td>\n",
       "      <td>6.26</td>\n",
       "      <td>0.0</td>\n",
       "      <td>0.0</td>\n",
       "    </tr>\n",
       "    <tr>\n",
       "      <th>2</th>\n",
       "      <td>2022-01-02 01:30:00</td>\n",
       "      <td>279.34</td>\n",
       "      <td>86</td>\n",
       "      <td>1024</td>\n",
       "      <td>01/02/2022 08:09</td>\n",
       "      <td>01/02/2022 17:07</td>\n",
       "      <td>282.60</td>\n",
       "      <td>0.0</td>\n",
       "      <td>broken clouds</td>\n",
       "      <td>13.41</td>\n",
       "      <td>7.15</td>\n",
       "      <td>0.0</td>\n",
       "      <td>0.0</td>\n",
       "    </tr>\n",
       "    <tr>\n",
       "      <th>3</th>\n",
       "      <td>2022-01-02 02:00:00</td>\n",
       "      <td>279.21</td>\n",
       "      <td>87</td>\n",
       "      <td>1024</td>\n",
       "      <td>01/02/2022 08:09</td>\n",
       "      <td>01/02/2022 17:07</td>\n",
       "      <td>282.60</td>\n",
       "      <td>0.0</td>\n",
       "      <td>broken clouds</td>\n",
       "      <td>12.96</td>\n",
       "      <td>7.60</td>\n",
       "      <td>0.0</td>\n",
       "      <td>0.0</td>\n",
       "    </tr>\n",
       "    <tr>\n",
       "      <th>4</th>\n",
       "      <td>2022-01-02 02:30:00</td>\n",
       "      <td>279.38</td>\n",
       "      <td>90</td>\n",
       "      <td>1024</td>\n",
       "      <td>01/02/2022 08:09</td>\n",
       "      <td>01/02/2022 17:07</td>\n",
       "      <td>282.42</td>\n",
       "      <td>0.0</td>\n",
       "      <td>light intensity drizzle</td>\n",
       "      <td>12.52</td>\n",
       "      <td>6.26</td>\n",
       "      <td>0.0</td>\n",
       "      <td>0.0</td>\n",
       "    </tr>\n",
       "    <tr>\n",
       "      <th>5</th>\n",
       "      <td>2022-01-02 03:00:00</td>\n",
       "      <td>278.98</td>\n",
       "      <td>91</td>\n",
       "      <td>1024</td>\n",
       "      <td>01/02/2022 08:09</td>\n",
       "      <td>01/02/2022 17:07</td>\n",
       "      <td>282.11</td>\n",
       "      <td>0.0</td>\n",
       "      <td>light intensity drizzle</td>\n",
       "      <td>12.07</td>\n",
       "      <td>6.26</td>\n",
       "      <td>0.0</td>\n",
       "      <td>0.0</td>\n",
       "    </tr>\n",
       "    <tr>\n",
       "      <th>6</th>\n",
       "      <td>2022-01-02 03:30:00</td>\n",
       "      <td>278.85</td>\n",
       "      <td>92</td>\n",
       "      <td>1024</td>\n",
       "      <td>01/02/2022 08:09</td>\n",
       "      <td>01/02/2022 17:07</td>\n",
       "      <td>282.22</td>\n",
       "      <td>0.0</td>\n",
       "      <td>light intensity drizzle</td>\n",
       "      <td>14.75</td>\n",
       "      <td>7.15</td>\n",
       "      <td>0.0</td>\n",
       "      <td>0.0</td>\n",
       "    </tr>\n",
       "    <tr>\n",
       "      <th>7</th>\n",
       "      <td>2022-01-02 04:00:00</td>\n",
       "      <td>278.77</td>\n",
       "      <td>92</td>\n",
       "      <td>1023</td>\n",
       "      <td>01/02/2022 08:09</td>\n",
       "      <td>01/02/2022 17:07</td>\n",
       "      <td>282.26</td>\n",
       "      <td>0.0</td>\n",
       "      <td>light intensity drizzle</td>\n",
       "      <td>14.75</td>\n",
       "      <td>7.60</td>\n",
       "      <td>0.0</td>\n",
       "      <td>0.0</td>\n",
       "    </tr>\n",
       "    <tr>\n",
       "      <th>8</th>\n",
       "      <td>2022-01-02 04:30:00</td>\n",
       "      <td>278.94</td>\n",
       "      <td>92</td>\n",
       "      <td>1023</td>\n",
       "      <td>01/02/2022 08:09</td>\n",
       "      <td>01/02/2022 17:07</td>\n",
       "      <td>282.39</td>\n",
       "      <td>0.0</td>\n",
       "      <td>light intensity drizzle</td>\n",
       "      <td>12.96</td>\n",
       "      <td>7.60</td>\n",
       "      <td>0.0</td>\n",
       "      <td>0.0</td>\n",
       "    </tr>\n",
       "    <tr>\n",
       "      <th>9</th>\n",
       "      <td>2022-01-02 05:30:00</td>\n",
       "      <td>279.46</td>\n",
       "      <td>95</td>\n",
       "      <td>1023</td>\n",
       "      <td>01/02/2022 08:09</td>\n",
       "      <td>01/02/2022 17:07</td>\n",
       "      <td>282.59</td>\n",
       "      <td>0.0</td>\n",
       "      <td>light intensity drizzle</td>\n",
       "      <td>12.52</td>\n",
       "      <td>6.71</td>\n",
       "      <td>0.0</td>\n",
       "      <td>0.0</td>\n",
       "    </tr>\n",
       "  </tbody>\n",
       "</table>\n",
       "</div>"
      ],
      "text/plain": [
       "                   dt  feels_like  humidity  pressure           sunrise  \\\n",
       "0 2022-01-02 00:30:00      279.62        83      1024  01/02/2022 08:09   \n",
       "1 2022-01-02 01:00:00      279.61        84      1024  01/02/2022 08:09   \n",
       "2 2022-01-02 01:30:00      279.34        86      1024  01/02/2022 08:09   \n",
       "3 2022-01-02 02:00:00      279.21        87      1024  01/02/2022 08:09   \n",
       "4 2022-01-02 02:30:00      279.38        90      1024  01/02/2022 08:09   \n",
       "5 2022-01-02 03:00:00      278.98        91      1024  01/02/2022 08:09   \n",
       "6 2022-01-02 03:30:00      278.85        92      1024  01/02/2022 08:09   \n",
       "7 2022-01-02 04:00:00      278.77        92      1023  01/02/2022 08:09   \n",
       "8 2022-01-02 04:30:00      278.94        92      1023  01/02/2022 08:09   \n",
       "9 2022-01-02 05:30:00      279.46        95      1023  01/02/2022 08:09   \n",
       "\n",
       "             sunset    temp  uvi               weather_id  wind_gust  \\\n",
       "0  01/02/2022 17:07  282.61  0.0            broken clouds      14.75   \n",
       "1  01/02/2022 17:07  282.60  0.0            broken clouds      13.41   \n",
       "2  01/02/2022 17:07  282.60  0.0            broken clouds      13.41   \n",
       "3  01/02/2022 17:07  282.60  0.0            broken clouds      12.96   \n",
       "4  01/02/2022 17:07  282.42  0.0  light intensity drizzle      12.52   \n",
       "5  01/02/2022 17:07  282.11  0.0  light intensity drizzle      12.07   \n",
       "6  01/02/2022 17:07  282.22  0.0  light intensity drizzle      14.75   \n",
       "7  01/02/2022 17:07  282.26  0.0  light intensity drizzle      14.75   \n",
       "8  01/02/2022 17:07  282.39  0.0  light intensity drizzle      12.96   \n",
       "9  01/02/2022 17:07  282.59  0.0  light intensity drizzle      12.52   \n",
       "\n",
       "   wind_speed  rain_1h  snow_1h  \n",
       "0        6.26      0.0      0.0  \n",
       "1        6.26      0.0      0.0  \n",
       "2        7.15      0.0      0.0  \n",
       "3        7.60      0.0      0.0  \n",
       "4        6.26      0.0      0.0  \n",
       "5        6.26      0.0      0.0  \n",
       "6        7.15      0.0      0.0  \n",
       "7        7.60      0.0      0.0  \n",
       "8        7.60      0.0      0.0  \n",
       "9        6.71      0.0      0.0  "
      ]
     },
     "execution_count": 11,
     "metadata": {},
     "output_type": "execute_result"
    }
   ],
   "source": [
    "df_weather.head(10)"
   ]
  },
  {
   "cell_type": "code",
   "execution_count": 12,
   "id": "08a250b9",
   "metadata": {},
   "outputs": [],
   "source": [
    "\n",
    "df_bike.rename(columns={'last_update':'dt'}, inplace=True)\n",
    "df_bike['dt_hour'] = df_bike['dt'].dt.hour\n",
    "df_bike['dt_min'] = df_bike['dt'].dt.minute\n",
    "df_bike['dt_date'] = df_bike['dt'].dt.date\n",
    "# The day of the week with Monday=0, Sunday=6.\n",
    "df_bike['dt_dayofweek'] = df_bike['dt'].dt.dayofweek\n",
    "df_weather['dt_hour'] = df_weather['dt'].dt.hour\n",
    "df_weather['dt_min'] = df_weather['dt'].dt.minute\n",
    "df_weather['dt_date'] = df_weather['dt'].dt.date"
   ]
  },
  {
   "cell_type": "code",
   "execution_count": 13,
   "id": "0effa47b",
   "metadata": {
    "scrolled": false
   },
   "outputs": [
    {
     "data": {
      "text/plain": [
       "number                            int64\n",
       "dt_x                     datetime64[ns]\n",
       "available_bikes                   int64\n",
       "available_bike_stands             int64\n",
       "status                           object\n",
       "dt_hour                           int64\n",
       "dt_min                            int64\n",
       "dt_date                          object\n",
       "dt_dayofweek                      int64\n",
       "dt_y                     datetime64[ns]\n",
       "feels_like                      float64\n",
       "humidity                          int64\n",
       "pressure                          int64\n",
       "sunrise                          object\n",
       "sunset                           object\n",
       "temp                            float64\n",
       "uvi                             float64\n",
       "weather_id                       object\n",
       "wind_gust                       float64\n",
       "wind_speed                      float64\n",
       "rain_1h                         float64\n",
       "snow_1h                         float64\n",
       "dtype: object"
      ]
     },
     "execution_count": 13,
     "metadata": {},
     "output_type": "execute_result"
    }
   ],
   "source": [
    "# Merge dataframes\n",
    "df_merged = pd.merge(df_bike, df_weather, on = ['dt_min', 'dt_date', 'dt_hour'], how = 'inner')\n",
    "# Show first 2 scraps (oldest) for stations (113*2=226)\n",
    "df_merged.dtypes"
   ]
  },
  {
   "cell_type": "code",
   "execution_count": 14,
   "id": "153038cf",
   "metadata": {},
   "outputs": [],
   "source": [
    "# Select columns containing categorical data\n",
    "categorical_columns = df_merged[['weather_id']].columns"
   ]
  },
  {
   "cell_type": "code",
   "execution_count": 15,
   "id": "ed8ab4f1",
   "metadata": {},
   "outputs": [
    {
     "data": {
      "text/html": [
       "<div>\n",
       "<style scoped>\n",
       "    .dataframe tbody tr th:only-of-type {\n",
       "        vertical-align: middle;\n",
       "    }\n",
       "\n",
       "    .dataframe tbody tr th {\n",
       "        vertical-align: top;\n",
       "    }\n",
       "\n",
       "    .dataframe thead th {\n",
       "        text-align: right;\n",
       "    }\n",
       "</style>\n",
       "<table border=\"1\" class=\"dataframe\">\n",
       "  <thead>\n",
       "    <tr style=\"text-align: right;\">\n",
       "      <th></th>\n",
       "      <th>count</th>\n",
       "      <th>mean</th>\n",
       "      <th>std</th>\n",
       "      <th>min</th>\n",
       "      <th>25%</th>\n",
       "      <th>50%</th>\n",
       "      <th>75%</th>\n",
       "      <th>max</th>\n",
       "    </tr>\n",
       "  </thead>\n",
       "  <tbody>\n",
       "    <tr>\n",
       "      <th>number</th>\n",
       "      <td>1584.0</td>\n",
       "      <td>60.356692</td>\n",
       "      <td>33.656391</td>\n",
       "      <td>2.00</td>\n",
       "      <td>31.0000</td>\n",
       "      <td>60.000</td>\n",
       "      <td>89.0000</td>\n",
       "      <td>117.00</td>\n",
       "    </tr>\n",
       "    <tr>\n",
       "      <th>available_bike_stands</th>\n",
       "      <td>1584.0</td>\n",
       "      <td>18.825758</td>\n",
       "      <td>10.129481</td>\n",
       "      <td>0.00</td>\n",
       "      <td>12.0000</td>\n",
       "      <td>19.000</td>\n",
       "      <td>27.0000</td>\n",
       "      <td>40.00</td>\n",
       "    </tr>\n",
       "    <tr>\n",
       "      <th>available_bikes</th>\n",
       "      <td>1584.0</td>\n",
       "      <td>12.956439</td>\n",
       "      <td>8.804825</td>\n",
       "      <td>0.00</td>\n",
       "      <td>6.0000</td>\n",
       "      <td>12.000</td>\n",
       "      <td>19.0000</td>\n",
       "      <td>40.00</td>\n",
       "    </tr>\n",
       "    <tr>\n",
       "      <th>dt_hour</th>\n",
       "      <td>1584.0</td>\n",
       "      <td>13.435606</td>\n",
       "      <td>5.965230</td>\n",
       "      <td>0.00</td>\n",
       "      <td>8.0000</td>\n",
       "      <td>13.000</td>\n",
       "      <td>19.0000</td>\n",
       "      <td>23.00</td>\n",
       "    </tr>\n",
       "    <tr>\n",
       "      <th>dt_min</th>\n",
       "      <td>1584.0</td>\n",
       "      <td>15.355429</td>\n",
       "      <td>15.007113</td>\n",
       "      <td>0.00</td>\n",
       "      <td>0.0000</td>\n",
       "      <td>30.000</td>\n",
       "      <td>30.0000</td>\n",
       "      <td>32.00</td>\n",
       "    </tr>\n",
       "    <tr>\n",
       "      <th>dt_dayofweek</th>\n",
       "      <td>1584.0</td>\n",
       "      <td>3.053030</td>\n",
       "      <td>2.052616</td>\n",
       "      <td>0.00</td>\n",
       "      <td>1.0000</td>\n",
       "      <td>3.000</td>\n",
       "      <td>5.0000</td>\n",
       "      <td>6.00</td>\n",
       "    </tr>\n",
       "    <tr>\n",
       "      <th>temp</th>\n",
       "      <td>1584.0</td>\n",
       "      <td>280.960473</td>\n",
       "      <td>3.031156</td>\n",
       "      <td>272.59</td>\n",
       "      <td>278.9175</td>\n",
       "      <td>281.065</td>\n",
       "      <td>282.6925</td>\n",
       "      <td>289.62</td>\n",
       "    </tr>\n",
       "    <tr>\n",
       "      <th>feels_like</th>\n",
       "      <td>1584.0</td>\n",
       "      <td>278.155808</td>\n",
       "      <td>4.209198</td>\n",
       "      <td>267.29</td>\n",
       "      <td>275.3250</td>\n",
       "      <td>278.005</td>\n",
       "      <td>280.6425</td>\n",
       "      <td>288.81</td>\n",
       "    </tr>\n",
       "    <tr>\n",
       "      <th>wind_speed</th>\n",
       "      <td>1584.0</td>\n",
       "      <td>6.127191</td>\n",
       "      <td>3.070325</td>\n",
       "      <td>0.00</td>\n",
       "      <td>4.0200</td>\n",
       "      <td>5.660</td>\n",
       "      <td>7.8025</td>\n",
       "      <td>19.55</td>\n",
       "    </tr>\n",
       "  </tbody>\n",
       "</table>\n",
       "</div>"
      ],
      "text/plain": [
       "                        count        mean        std     min       25%  \\\n",
       "number                 1584.0   60.356692  33.656391    2.00   31.0000   \n",
       "available_bike_stands  1584.0   18.825758  10.129481    0.00   12.0000   \n",
       "available_bikes        1584.0   12.956439   8.804825    0.00    6.0000   \n",
       "dt_hour                1584.0   13.435606   5.965230    0.00    8.0000   \n",
       "dt_min                 1584.0   15.355429  15.007113    0.00    0.0000   \n",
       "dt_dayofweek           1584.0    3.053030   2.052616    0.00    1.0000   \n",
       "temp                   1584.0  280.960473   3.031156  272.59  278.9175   \n",
       "feels_like             1584.0  278.155808   4.209198  267.29  275.3250   \n",
       "wind_speed             1584.0    6.127191   3.070325    0.00    4.0200   \n",
       "\n",
       "                           50%       75%     max  \n",
       "number                  60.000   89.0000  117.00  \n",
       "available_bike_stands   19.000   27.0000   40.00  \n",
       "available_bikes         12.000   19.0000   40.00  \n",
       "dt_hour                 13.000   19.0000   23.00  \n",
       "dt_min                  30.000   30.0000   32.00  \n",
       "dt_dayofweek             3.000    5.0000    6.00  \n",
       "temp                   281.065  282.6925  289.62  \n",
       "feels_like             278.005  280.6425  288.81  \n",
       "wind_speed               5.660    7.8025   19.55  "
      ]
     },
     "execution_count": 15,
     "metadata": {},
     "output_type": "execute_result"
    }
   ],
   "source": [
    "\n",
    "# Select columns containing continuous data\n",
    "continuous_columns = df_merged[['number', 'available_bike_stands', 'available_bikes', 'dt_hour', 'dt_min', 'dt_dayofweek', \n",
    "                         'temp', 'feels_like', 'wind_speed']].columns\n",
    "# Print table\n",
    "df_merged[continuous_columns].describe().T"
   ]
  },
  {
   "cell_type": "code",
   "execution_count": 16,
   "id": "ac233fb8",
   "metadata": {},
   "outputs": [
    {
     "name": "stderr",
     "output_type": "stream",
     "text": [
      "/var/folders/9r/pt_53l_55hnfbqs4389kw3h40000gn/T/ipykernel_70285/3204442930.py:8: DeprecationWarning: `np.bool` is a deprecated alias for the builtin `bool`. To silence this warning, use `bool` by itself. Doing this will not modify any behavior and is safe. If you specifically wanted the numpy scalar type, use `np.bool_` here.\n",
      "Deprecated in NumPy 1.20; for more details and guidance: https://numpy.org/devdocs/release/1.20.0-notes.html#deprecations\n",
      "  mask = np.zeros_like(corr, dtype=np.bool)\n"
     ]
    },
    {
     "data": {
      "text/plain": [
       "(array([0.5, 1.5, 2.5, 3.5, 4.5, 5.5, 6.5, 7.5, 8.5]),\n",
       " [Text(0.5, 0, 'number'),\n",
       "  Text(1.5, 0, 'available_bike_stands'),\n",
       "  Text(2.5, 0, 'available_bikes'),\n",
       "  Text(3.5, 0, 'dt_hour'),\n",
       "  Text(4.5, 0, 'dt_min'),\n",
       "  Text(5.5, 0, 'dt_dayofweek'),\n",
       "  Text(6.5, 0, 'temp'),\n",
       "  Text(7.5, 0, 'feels_like'),\n",
       "  Text(8.5, 0, 'wind_speed')])"
      ]
     },
     "execution_count": 16,
     "metadata": {},
     "output_type": "execute_result"
    },
    {
     "data": {
      "image/png": "[encoded data removed]",
      "text/plain": [
       "<Figure size 792x648 with 2 Axes>"
      ]
     },
     "metadata": {},
     "output_type": "display_data"
    }
   ],
   "source": [
    "# Correlation matrix using code found on https://stanford.edu/~mwaskom/software/seaborn/examples/many_pairwise_correlations.html\n",
    "sns.set(style=\"white\")\n",
    "\n",
    "# Calculate correlation of all pairs of continuous features\n",
    "corr = df_merged[continuous_columns].corr()\n",
    "\n",
    "# Generate a mask for the upper triangle\n",
    "mask = np.zeros_like(corr, dtype=np.bool)\n",
    "mask[np.triu_indices_from(mask)] = True\n",
    "\n",
    "# Set up the matplotlib figure\n",
    "f, ax = plt.subplots(figsize=(11, 9))\n",
    "\n",
    "# Generate a custom colormap - blue and red\n",
    "cmap = sns.diverging_palette(220, 10, as_cmap=True)\n",
    "\n",
    "# Draw the heatmap with the mask and correct aspect ratio\n",
    "sns.heatmap(corr, annot=True, mask=mask, cmap=cmap, vmax=1, vmin=-1,\n",
    "            square=True, xticklabels=True, yticklabels=True,\n",
    "            linewidths=.5, cbar_kws={\"shrink\": .5}, ax=ax)\n",
    "plt.yticks(rotation = 0)\n",
    "plt.xticks(rotation = 45)"
   ]
  },
  {
   "cell_type": "code",
   "execution_count": 17,
   "id": "918cdc2a",
   "metadata": {},
   "outputs": [
    {
     "name": "stderr",
     "output_type": "stream",
     "text": [
      "*c* argument looks like a single numeric RGB or RGBA sequence, which should be avoided as value-mapping will have precedence in case its length matches with *x* & *y*.  Please use the *color* keyword-argument or provide a 2D array with a single row if you intend to specify the same RGB or RGBA value for all points.\n",
      "*c* argument looks like a single numeric RGB or RGBA sequence, which should be avoided as value-mapping will have precedence in case its length matches with *x* & *y*.  Please use the *color* keyword-argument or provide a 2D array with a single row if you intend to specify the same RGB or RGBA value for all points.\n",
      "*c* argument looks like a single numeric RGB or RGBA sequence, which should be avoided as value-mapping will have precedence in case its length matches with *x* & *y*.  Please use the *color* keyword-argument or provide a 2D array with a single row if you intend to specify the same RGB or RGBA value for all points.\n",
      "*c* argument looks like a single numeric RGB or RGBA sequence, which should be avoided as value-mapping will have precedence in case its length matches with *x* & *y*.  Please use the *color* keyword-argument or provide a 2D array with a single row if you intend to specify the same RGB or RGBA value for all points.\n"
     ]
    },
    {
     "data": {
      "text/plain": [
       "<AxesSubplot:xlabel='available_bike_stands', ylabel='dt_dayofweek'>"
      ]
     },
     "execution_count": 17,
     "metadata": {},
     "output_type": "execute_result"
    },
    {
     "data": {
      "image/png": "[encoded data removed]",
      "text/plain": [
       "<Figure size 432x288 with 1 Axes>"
      ]
     },
     "metadata": {},
     "output_type": "display_data"
    },
    {
     "data": {
      "image/png": "[encoded data removed]",
      "text/plain": [
       "<Figure size 432x288 with 1 Axes>"
      ]
     },
     "metadata": {},
     "output_type": "display_data"
    },
    {
     "data": {
      "image/png": "[encoded data removed]",
      "text/plain": [
       "<Figure size 432x288 with 1 Axes>"
      ]
     },
     "metadata": {},
     "output_type": "display_data"
    },
    {
     "data": {
      "image/png": "[encoded data removed]",
      "text/plain": [
       "<Figure size 432x288 with 1 Axes>"
      ]
     },
     "metadata": {},
     "output_type": "display_data"
    }
   ],
   "source": [
    "df_merged.plot(kind='scatter', x='available_bikes', y='dt_hour')\n",
    "df_merged.plot(kind='scatter', x='available_bikes', y='dt_dayofweek')\n",
    "df_merged.plot(kind='scatter', x='available_bike_stands', y='dt_hour')\n",
    "df_merged.plot(kind='scatter', x='available_bike_stands', y='dt_dayofweek')"
   ]
  },
  {
   "cell_type": "code",
   "execution_count": null,
   "id": "4cb004bb",
   "metadata": {},
   "outputs": [],
   "source": []
  },
  {
   "cell_type": "code",
   "execution_count": 18,
   "id": "4ea2493f",
   "metadata": {},
   "outputs": [
    {
     "data": {
      "text/plain": [
       "<AxesSubplot:title={'center':'available_bike_stands'}, xlabel='[weather_id]'>"
      ]
     },
     "execution_count": 18,
     "metadata": {},
     "output_type": "execute_result"
    },
    {
     "data": {
      "text/plain": [
       "<Figure size 432x288 with 0 Axes>"
      ]
     },
     "metadata": {},
     "output_type": "display_data"
    },
    {
     "data": {
      "image/png": "[encoded data removed]",
      "text/plain": [
       "<Figure size 720x504 with 1 Axes>"
      ]
     },
     "metadata": {},
     "output_type": "display_data"
    },
    {
     "data": {
      "image/png": "[encoded data removed]",
      "text/plain": [
       "<Figure size 720x504 with 1 Axes>"
      ]
     },
     "metadata": {},
     "output_type": "display_data"
    }
   ],
   "source": [
    "plt.figure()\n",
    "flierprops = dict(marker='o', markerfacecolor='green', markersize=6,\n",
    "                  linestyle='none')\n",
    "df_merged.boxplot(column=['available_bikes'], by=['weather_id'], flierprops=flierprops, figsize=(10,7))\n",
    "df_merged.boxplot(column=['available_bike_stands'], by=['weather_id'], flierprops=flierprops, figsize=(10,7))"
   ]
  },
  {
   "cell_type": "code",
   "execution_count": 19,
   "id": "4f2dc426",
   "metadata": {},
   "outputs": [
    {
     "data": {
      "text/html": [
       "<div>\n",
       "<style scoped>\n",
       "    .dataframe tbody tr th:only-of-type {\n",
       "        vertical-align: middle;\n",
       "    }\n",
       "\n",
       "    .dataframe tbody tr th {\n",
       "        vertical-align: top;\n",
       "    }\n",
       "\n",
       "    .dataframe thead th {\n",
       "        text-align: right;\n",
       "    }\n",
       "</style>\n",
       "<table border=\"1\" class=\"dataframe\">\n",
       "  <thead>\n",
       "    <tr style=\"text-align: right;\">\n",
       "      <th></th>\n",
       "      <th>number</th>\n",
       "      <th>dt</th>\n",
       "      <th>available_bikes</th>\n",
       "      <th>available_bike_stands</th>\n",
       "      <th>status</th>\n",
       "      <th>dt_hour</th>\n",
       "      <th>dt_min</th>\n",
       "      <th>dt_date</th>\n",
       "      <th>dt_dayofweek</th>\n",
       "    </tr>\n",
       "  </thead>\n",
       "  <tbody>\n",
       "    <tr>\n",
       "      <th>494</th>\n",
       "      <td>3</td>\n",
       "      <td>2022-01-02 05:03:00</td>\n",
       "      <td>11</td>\n",
       "      <td>9</td>\n",
       "      <td>OPEN</td>\n",
       "      <td>5</td>\n",
       "      <td>3</td>\n",
       "      <td>2022-01-02</td>\n",
       "      <td>6</td>\n",
       "    </tr>\n",
       "    <tr>\n",
       "      <th>601</th>\n",
       "      <td>3</td>\n",
       "      <td>2022-01-02 05:13:00</td>\n",
       "      <td>11</td>\n",
       "      <td>9</td>\n",
       "      <td>OPEN</td>\n",
       "      <td>5</td>\n",
       "      <td>13</td>\n",
       "      <td>2022-01-02</td>\n",
       "      <td>6</td>\n",
       "    </tr>\n",
       "    <tr>\n",
       "      <th>710</th>\n",
       "      <td>3</td>\n",
       "      <td>2022-01-02 05:23:00</td>\n",
       "      <td>11</td>\n",
       "      <td>9</td>\n",
       "      <td>OPEN</td>\n",
       "      <td>5</td>\n",
       "      <td>23</td>\n",
       "      <td>2022-01-02</td>\n",
       "      <td>6</td>\n",
       "    </tr>\n",
       "    <tr>\n",
       "      <th>822</th>\n",
       "      <td>3</td>\n",
       "      <td>2022-01-02 05:33:00</td>\n",
       "      <td>11</td>\n",
       "      <td>9</td>\n",
       "      <td>OPEN</td>\n",
       "      <td>5</td>\n",
       "      <td>33</td>\n",
       "      <td>2022-01-02</td>\n",
       "      <td>6</td>\n",
       "    </tr>\n",
       "    <tr>\n",
       "      <th>1074</th>\n",
       "      <td>3</td>\n",
       "      <td>2022-01-02 05:57:00</td>\n",
       "      <td>9</td>\n",
       "      <td>11</td>\n",
       "      <td>OPEN</td>\n",
       "      <td>5</td>\n",
       "      <td>57</td>\n",
       "      <td>2022-01-02</td>\n",
       "      <td>6</td>\n",
       "    </tr>\n",
       "  </tbody>\n",
       "</table>\n",
       "</div>"
      ],
      "text/plain": [
       "      number                  dt  available_bikes  available_bike_stands  \\\n",
       "494        3 2022-01-02 05:03:00               11                      9   \n",
       "601        3 2022-01-02 05:13:00               11                      9   \n",
       "710        3 2022-01-02 05:23:00               11                      9   \n",
       "822        3 2022-01-02 05:33:00               11                      9   \n",
       "1074       3 2022-01-02 05:57:00                9                     11   \n",
       "\n",
       "     status  dt_hour  dt_min     dt_date  dt_dayofweek  \n",
       "494    OPEN        5       3  2022-01-02             6  \n",
       "601    OPEN        5      13  2022-01-02             6  \n",
       "710    OPEN        5      23  2022-01-02             6  \n",
       "822    OPEN        5      33  2022-01-02             6  \n",
       "1074   OPEN        5      57  2022-01-02             6  "
      ]
     },
     "execution_count": 19,
     "metadata": {},
     "output_type": "execute_result"
    }
   ],
   "source": [
    "df_station_3 = df_bike[df_bike['number']==3]\n",
    "#df_bike['number'] == 3\n",
    "df_station_3.head()"
   ]
  },
  {
   "cell_type": "code",
   "execution_count": 20,
   "id": "c132a0c8",
   "metadata": {},
   "outputs": [
    {
     "name": "stderr",
     "output_type": "stream",
     "text": [
      "*c* argument looks like a single numeric RGB or RGBA sequence, which should be avoided as value-mapping will have precedence in case its length matches with *x* & *y*.  Please use the *color* keyword-argument or provide a 2D array with a single row if you intend to specify the same RGB or RGBA value for all points.\n",
      "*c* argument looks like a single numeric RGB or RGBA sequence, which should be avoided as value-mapping will have precedence in case its length matches with *x* & *y*.  Please use the *color* keyword-argument or provide a 2D array with a single row if you intend to specify the same RGB or RGBA value for all points.\n",
      "*c* argument looks like a single numeric RGB or RGBA sequence, which should be avoided as value-mapping will have precedence in case its length matches with *x* & *y*.  Please use the *color* keyword-argument or provide a 2D array with a single row if you intend to specify the same RGB or RGBA value for all points.\n",
      "*c* argument looks like a single numeric RGB or RGBA sequence, which should be avoided as value-mapping will have precedence in case its length matches with *x* & *y*.  Please use the *color* keyword-argument or provide a 2D array with a single row if you intend to specify the same RGB or RGBA value for all points.\n"
     ]
    },
    {
     "data": {
      "text/plain": [
       "<AxesSubplot:xlabel='dt_dayofweek', ylabel='available_bike_stands'>"
      ]
     },
     "execution_count": 20,
     "metadata": {},
     "output_type": "execute_result"
    },
    {
     "data": {
      "image/png": "[encoded data removed]",
      "text/plain": [
       "<Figure size 432x288 with 1 Axes>"
      ]
     },
     "metadata": {},
     "output_type": "display_data"
    },
    {
     "data": {
      "image/png": "[encoded data removed]",
      "text/plain": [
       "<Figure size 432x288 with 1 Axes>"
      ]
     },
     "metadata": {},
     "output_type": "display_data"
    },
    {
     "data": {
      "image/png": "[encoded data removed]",
      "text/plain": [
       "<Figure size 432x288 with 1 Axes>"
      ]
     },
     "metadata": {},
     "output_type": "display_data"
    },
    {
     "data": {
      "image/png": "[encoded data removed]",
      "text/plain": [
       "<Figure size 432x288 with 1 Axes>"
      ]
     },
     "metadata": {},
     "output_type": "display_data"
    }
   ],
   "source": [
    "df_station_3.plot(kind='scatter', x='dt_hour', y='available_bikes')\n",
    "df_station_3.plot(kind='scatter', x='dt_dayofweek', y='available_bikes')\n",
    "df_station_3.plot(kind='scatter', x='dt_hour', y='available_bike_stands')\n",
    "df_station_3.plot(kind='scatter', x='dt_dayofweek', y='available_bike_stands')"
   ]
  },
  {
   "cell_type": "code",
   "execution_count": 21,
   "id": "16ffaedb",
   "metadata": {},
   "outputs": [
    {
     "data": {
      "text/html": [
       "<div>\n",
       "<style scoped>\n",
       "    .dataframe tbody tr th:only-of-type {\n",
       "        vertical-align: middle;\n",
       "    }\n",
       "\n",
       "    .dataframe tbody tr th {\n",
       "        vertical-align: top;\n",
       "    }\n",
       "\n",
       "    .dataframe thead th {\n",
       "        text-align: right;\n",
       "    }\n",
       "</style>\n",
       "<table border=\"1\" class=\"dataframe\">\n",
       "  <thead>\n",
       "    <tr style=\"text-align: right;\">\n",
       "      <th></th>\n",
       "      <th>number</th>\n",
       "      <th>dt_x</th>\n",
       "      <th>available_bikes</th>\n",
       "      <th>available_bike_stands</th>\n",
       "      <th>status</th>\n",
       "      <th>dt_hour</th>\n",
       "      <th>dt_min</th>\n",
       "      <th>dt_date</th>\n",
       "      <th>dt_dayofweek</th>\n",
       "      <th>dt_y</th>\n",
       "      <th>...</th>\n",
       "      <th>pressure</th>\n",
       "      <th>sunrise</th>\n",
       "      <th>sunset</th>\n",
       "      <th>temp</th>\n",
       "      <th>uvi</th>\n",
       "      <th>weather_id</th>\n",
       "      <th>wind_gust</th>\n",
       "      <th>wind_speed</th>\n",
       "      <th>rain_1h</th>\n",
       "      <th>snow_1h</th>\n",
       "    </tr>\n",
       "  </thead>\n",
       "  <tbody>\n",
       "    <tr>\n",
       "      <th>96</th>\n",
       "      <td>3</td>\n",
       "      <td>2022-05-02 09:30:00</td>\n",
       "      <td>0</td>\n",
       "      <td>20</td>\n",
       "      <td>OPEN</td>\n",
       "      <td>9</td>\n",
       "      <td>30</td>\n",
       "      <td>2022-05-02</td>\n",
       "      <td>0</td>\n",
       "      <td>2022-05-02 09:30:00</td>\n",
       "      <td>...</td>\n",
       "      <td>1012</td>\n",
       "      <td>05/02/2022 08:03</td>\n",
       "      <td>05/02/2022 17:15</td>\n",
       "      <td>280.63</td>\n",
       "      <td>0.07</td>\n",
       "      <td>broken clouds</td>\n",
       "      <td>14.31</td>\n",
       "      <td>9.39</td>\n",
       "      <td>0.0</td>\n",
       "      <td>0.0</td>\n",
       "    </tr>\n",
       "    <tr>\n",
       "      <th>436</th>\n",
       "      <td>3</td>\n",
       "      <td>2022-02-18 13:00:00</td>\n",
       "      <td>3</td>\n",
       "      <td>17</td>\n",
       "      <td>OPEN</td>\n",
       "      <td>13</td>\n",
       "      <td>0</td>\n",
       "      <td>2022-02-18</td>\n",
       "      <td>4</td>\n",
       "      <td>2022-02-18 13:00:00</td>\n",
       "      <td>...</td>\n",
       "      <td>992</td>\n",
       "      <td>18/02/2022 07:37</td>\n",
       "      <td>18/02/2022 17:40</td>\n",
       "      <td>278.08</td>\n",
       "      <td>0.92</td>\n",
       "      <td>scattered clouds</td>\n",
       "      <td>22.80</td>\n",
       "      <td>17.43</td>\n",
       "      <td>0.0</td>\n",
       "      <td>0.0</td>\n",
       "    </tr>\n",
       "    <tr>\n",
       "      <th>446</th>\n",
       "      <td>3</td>\n",
       "      <td>2022-02-18 19:30:00</td>\n",
       "      <td>2</td>\n",
       "      <td>18</td>\n",
       "      <td>OPEN</td>\n",
       "      <td>19</td>\n",
       "      <td>30</td>\n",
       "      <td>2022-02-18</td>\n",
       "      <td>4</td>\n",
       "      <td>2022-02-18 19:30:00</td>\n",
       "      <td>...</td>\n",
       "      <td>1003</td>\n",
       "      <td>18/02/2022 07:37</td>\n",
       "      <td>18/02/2022 17:40</td>\n",
       "      <td>275.34</td>\n",
       "      <td>0.00</td>\n",
       "      <td>few clouds</td>\n",
       "      <td>0.00</td>\n",
       "      <td>8.23</td>\n",
       "      <td>0.0</td>\n",
       "      <td>0.0</td>\n",
       "    </tr>\n",
       "    <tr>\n",
       "      <th>638</th>\n",
       "      <td>3</td>\n",
       "      <td>2022-02-25 16:30:00</td>\n",
       "      <td>6</td>\n",
       "      <td>14</td>\n",
       "      <td>OPEN</td>\n",
       "      <td>16</td>\n",
       "      <td>30</td>\n",
       "      <td>2022-02-25</td>\n",
       "      <td>4</td>\n",
       "      <td>2022-02-25 16:30:00</td>\n",
       "      <td>...</td>\n",
       "      <td>1025</td>\n",
       "      <td>25/02/2022 07:22</td>\n",
       "      <td>25/02/2022 17:54</td>\n",
       "      <td>283.75</td>\n",
       "      <td>0.00</td>\n",
       "      <td>broken clouds</td>\n",
       "      <td>0.00</td>\n",
       "      <td>6.17</td>\n",
       "      <td>0.0</td>\n",
       "      <td>0.0</td>\n",
       "    </tr>\n",
       "    <tr>\n",
       "      <th>676</th>\n",
       "      <td>3</td>\n",
       "      <td>2022-02-27 07:30:00</td>\n",
       "      <td>15</td>\n",
       "      <td>5</td>\n",
       "      <td>OPEN</td>\n",
       "      <td>7</td>\n",
       "      <td>30</td>\n",
       "      <td>2022-02-27</td>\n",
       "      <td>6</td>\n",
       "      <td>2022-02-27 07:30:00</td>\n",
       "      <td>...</td>\n",
       "      <td>1015</td>\n",
       "      <td>27/02/2022 07:17</td>\n",
       "      <td>27/02/2022 17:58</td>\n",
       "      <td>280.57</td>\n",
       "      <td>0.12</td>\n",
       "      <td>broken clouds</td>\n",
       "      <td>0.00</td>\n",
       "      <td>7.72</td>\n",
       "      <td>0.0</td>\n",
       "      <td>0.0</td>\n",
       "    </tr>\n",
       "  </tbody>\n",
       "</table>\n",
       "<p>5 rows × 22 columns</p>\n",
       "</div>"
      ],
      "text/plain": [
       "     number                dt_x  available_bikes  available_bike_stands  \\\n",
       "96        3 2022-05-02 09:30:00                0                     20   \n",
       "436       3 2022-02-18 13:00:00                3                     17   \n",
       "446       3 2022-02-18 19:30:00                2                     18   \n",
       "638       3 2022-02-25 16:30:00                6                     14   \n",
       "676       3 2022-02-27 07:30:00               15                      5   \n",
       "\n",
       "    status  dt_hour  dt_min     dt_date  dt_dayofweek                dt_y  \\\n",
       "96    OPEN        9      30  2022-05-02             0 2022-05-02 09:30:00   \n",
       "436   OPEN       13       0  2022-02-18             4 2022-02-18 13:00:00   \n",
       "446   OPEN       19      30  2022-02-18             4 2022-02-18 19:30:00   \n",
       "638   OPEN       16      30  2022-02-25             4 2022-02-25 16:30:00   \n",
       "676   OPEN        7      30  2022-02-27             6 2022-02-27 07:30:00   \n",
       "\n",
       "     ...  pressure           sunrise            sunset    temp   uvi  \\\n",
       "96   ...      1012  05/02/2022 08:03  05/02/2022 17:15  280.63  0.07   \n",
       "436  ...       992  18/02/2022 07:37  18/02/2022 17:40  278.08  0.92   \n",
       "446  ...      1003  18/02/2022 07:37  18/02/2022 17:40  275.34  0.00   \n",
       "638  ...      1025  25/02/2022 07:22  25/02/2022 17:54  283.75  0.00   \n",
       "676  ...      1015  27/02/2022 07:17  27/02/2022 17:58  280.57  0.12   \n",
       "\n",
       "           weather_id  wind_gust wind_speed  rain_1h  snow_1h  \n",
       "96      broken clouds      14.31       9.39      0.0      0.0  \n",
       "436  scattered clouds      22.80      17.43      0.0      0.0  \n",
       "446        few clouds       0.00       8.23      0.0      0.0  \n",
       "638     broken clouds       0.00       6.17      0.0      0.0  \n",
       "676     broken clouds       0.00       7.72      0.0      0.0  \n",
       "\n",
       "[5 rows x 22 columns]"
      ]
     },
     "execution_count": 21,
     "metadata": {},
     "output_type": "execute_result"
    }
   ],
   "source": [
    "df_station_3 = df_merged[df_merged['number']==3]\n",
    "#df_bike['number'] == 3\n",
    "df_station_3.head()"
   ]
  },
  {
   "cell_type": "code",
   "execution_count": null,
   "id": "ec2fcf32",
   "metadata": {},
   "outputs": [],
   "source": []
  },
  {
   "cell_type": "code",
   "execution_count": 22,
   "id": "224dda67",
   "metadata": {
    "scrolled": false
   },
   "outputs": [
    {
     "data": {
      "text/plain": [
       "<AxesSubplot:title={'center':'available_bike_stands'}, xlabel='[weather_id]'>"
      ]
     },
     "execution_count": 22,
     "metadata": {},
     "output_type": "execute_result"
    },
    {
     "data": {
      "text/plain": [
       "<Figure size 432x288 with 0 Axes>"
      ]
     },
     "metadata": {},
     "output_type": "display_data"
    },
    {
     "data": {
      "image/png": "[encoded data removed]",
      "text/plain": [
       "<Figure size 720x504 with 1 Axes>"
      ]
     },
     "metadata": {},
     "output_type": "display_data"
    },
    {
     "data": {
      "image/png": "[encoded data removed]",
      "text/plain": [
       "<Figure size 720x504 with 1 Axes>"
      ]
     },
     "metadata": {},
     "output_type": "display_data"
    }
   ],
   "source": [
    "plt.figure()\n",
    "flierprops = dict(marker='o', markerfacecolor='green', markersize=6,\n",
    "                  linestyle='none')\n",
    "df_station_3.boxplot(column=['available_bikes'], by=['weather_id'], flierprops=flierprops, figsize=(10,7))\n",
    "df_station_3.boxplot(column=['available_bike_stands'], by=['weather_id'], flierprops=flierprops, figsize=(10,7))"
   ]
  },
  {
   "cell_type": "code",
   "execution_count": null,
   "id": "ee4c0148",
   "metadata": {},
   "outputs": [],
   "source": []
  },
  {
   "cell_type": "code",
   "execution_count": 23,
   "id": "ad1637a2",
   "metadata": {},
   "outputs": [
    {
     "name": "stderr",
     "output_type": "stream",
     "text": [
      "/var/folders/9r/pt_53l_55hnfbqs4389kw3h40000gn/T/ipykernel_70285/1072845553.py:1: SettingWithCopyWarning: \n",
      "A value is trying to be set on a copy of a slice from a DataFrame.\n",
      "Try using .loc[row_indexer,col_indexer] = value instead\n",
      "\n",
      "See the caveats in the documentation: https://pandas.pydata.org/pandas-docs/stable/user_guide/indexing.html#returning-a-view-versus-a-copy\n",
      "  df_station_3['scattered clouds'] = df_station_3.weather_id.apply(lambda x: 1 if 'scattered clouds' in x else 0)\n"
     ]
    }
   ],
   "source": [
    "df_station_3['scattered clouds'] = df_station_3.weather_id.apply(lambda x: 1 if 'scattered clouds' in x else 0)\n",
    "df_merged['scattered clouds'] = df_merged.weather_id.apply(lambda x: 1 if 'scattered clouds' in x else 0)"
   ]
  },
  {
   "cell_type": "code",
   "execution_count": null,
   "id": "93161059",
   "metadata": {},
   "outputs": [],
   "source": []
  },
  {
   "cell_type": "markdown",
   "id": "f3287a46",
   "metadata": {},
   "source": [
    "# ML Model"
   ]
  },
  {
   "cell_type": "code",
   "execution_count": 24,
   "id": "9c1cd5c4",
   "metadata": {},
   "outputs": [
    {
     "name": "stdout",
     "output_type": "stream",
     "text": [
      "Training the model on 14 rows and 3 columns.\n",
      "Testing the model on 5 rows.\n"
     ]
    }
   ],
   "source": [
    "# Select model features and store them in a new dataframe\n",
    "input_data = pd.DataFrame(df_station_3[['dt_dayofweek', 'dt_hour', 'scattered clouds']])\n",
    "\n",
    "# Define target variable\n",
    "output_data = df_station_3['available_bikes']\n",
    "\n",
    "# Split dataset to train and test\n",
    "x_train, x_test, y_train, y_test = train_test_split(input_data, output_data, test_size=0.25, random_state=42)\n",
    "print(\"Training the model on %s rows and %s columns.\" % x_train.shape)\n",
    "\n",
    "lr = LinearRegression()\n",
    "\n",
    "# Train the model\n",
    "lr.fit(x_train, y_train)\n",
    "\n",
    "print(\"Testing the model on %s rows.\" % y_test.shape[0])"
   ]
  },
  {
   "cell_type": "code",
   "execution_count": 25,
   "id": "d5fe3745",
   "metadata": {},
   "outputs": [
    {
     "data": {
      "text/plain": [
       "number                            int64\n",
       "dt_x                     datetime64[ns]\n",
       "available_bikes                   int64\n",
       "available_bike_stands             int64\n",
       "status                           object\n",
       "dt_hour                           int64\n",
       "dt_min                            int64\n",
       "dt_date                          object\n",
       "dt_dayofweek                      int64\n",
       "dt_y                     datetime64[ns]\n",
       "feels_like                      float64\n",
       "humidity                          int64\n",
       "pressure                          int64\n",
       "sunrise                          object\n",
       "sunset                           object\n",
       "temp                            float64\n",
       "uvi                             float64\n",
       "weather_id                       object\n",
       "wind_gust                       float64\n",
       "wind_speed                      float64\n",
       "rain_1h                         float64\n",
       "snow_1h                         float64\n",
       "scattered clouds                  int64\n",
       "dtype: object"
      ]
     },
     "execution_count": 25,
     "metadata": {},
     "output_type": "execute_result"
    }
   ],
   "source": [
    "df_station_3.dtypes"
   ]
  },
  {
   "cell_type": "code",
   "execution_count": null,
   "id": "823ad0c7",
   "metadata": {},
   "outputs": [],
   "source": []
  },
  {
   "cell_type": "code",
   "execution_count": 26,
   "id": "47cf1bc2",
   "metadata": {},
   "outputs": [
    {
     "name": "stdout",
     "output_type": "stream",
     "text": [
      "[-4.66464537 -6.24195994  7.22430969 12.24266378 -5.19041689]\n",
      "96       0\n",
      "703     18\n",
      "1203    16\n",
      "436      3\n",
      "957      5\n",
      "Name: available_bikes, dtype: int64\n"
     ]
    }
   ],
   "source": [
    "# Get prediction for test cases\n",
    "prediction = lr.predict(x_test)\n",
    "\n",
    "# Show the predicted test cases\n",
    "print(prediction)\n",
    "print(y_test)"
   ]
  },
  {
   "cell_type": "code",
   "execution_count": null,
   "id": "fc2d96a4",
   "metadata": {},
   "outputs": [],
   "source": []
  },
  {
   "cell_type": "code",
   "execution_count": 27,
   "id": "bf66b7da",
   "metadata": {
    "scrolled": true
   },
   "outputs": [
    {
     "name": "stdout",
     "output_type": "stream",
     "text": [
      "RMSE: 13.234166\n"
     ]
    }
   ],
   "source": [
    "print(\"RMSE: %f\" % np.sqrt(metrics.mean_squared_error(y_test, prediction)))"
   ]
  },
  {
   "cell_type": "code",
   "execution_count": null,
   "id": "cb6f050d",
   "metadata": {},
   "outputs": [],
   "source": []
  },
  {
   "cell_type": "code",
   "execution_count": 34,
   "id": "0fad6975",
   "metadata": {
    "scrolled": true
   },
   "outputs": [],
   "source": [
    "import pickle\n",
    "\n",
    "id_list = list(df_merged['number'].unique())\n",
    "for station_id in id_list:\n",
    "    df_station = df_merged[df_merged['number']==station_id]\n",
    "    \n",
    "    # Select model features and store them in a new dataframe\n",
    "    input_data = pd.DataFrame(df_station[['dt_dayofweek', 'dt_hour', 'scattered clouds']])\n",
    "\n",
    "    # Define target variable\n",
    "    output_data = df_station['available_bikes']\n",
    "\n",
    "    # Split dataset to train and test\n",
    "    x_train, x_test, y_train, y_test = train_test_split(input_data, output_data, test_size=0.25, random_state=3)\n",
    "\n",
    "    lr = LinearRegression()\n",
    "\n",
    "    # Train the model\n",
    "    lr.fit(x_train, y_train)\n",
    "    \n",
    "    with open('/Users/air/Desktop/models/ ' + str(station_id) + '_station_model.pkl', 'wb') as handle:\n",
    "        pickle.dump(lr, handle, pickle.HIGHEST_PROTOCOL)"
   ]
  },
  {
   "cell_type": "code",
   "execution_count": null,
   "id": "a87e9af6",
   "metadata": {},
   "outputs": [],
   "source": []
  },
  {
   "cell_type": "code",
   "execution_count": 37,
   "id": "056395a3",
   "metadata": {},
   "outputs": [
    {
     "data": {
      "text/plain": [
       "LinearRegression()"
      ]
     },
     "execution_count": 37,
     "metadata": {},
     "output_type": "execute_result"
    }
   ],
   "source": [
    "import pickle\n",
    "\n",
    "with open('model/ 3_station_model.pkl', 'rb') as f:\n",
    "    data = pickle.load(f)\n",
    "data"
   ]
  },
  {
   "cell_type": "code",
   "execution_count": 39,
   "id": "025dc7c4",
   "metadata": {},
   "outputs": [
    {
     "data": {
      "text/plain": [
       "LinearRegression()"
      ]
     },
     "execution_count": 39,
     "metadata": {},
     "output_type": "execute_result"
    }
   ],
   "source": [
    "import pickle  \n",
    "f = open('model/ 3_station_model.pkl','rb')  \n",
    "info = pickle.load(f)  \n",
    "info "
   ]
  },
  {
   "cell_type": "code",
   "execution_count": null,
   "id": "79521c36",
   "metadata": {},
   "outputs": [],
   "source": []
  }
 ],
 "metadata": {
  "kernelspec": {
   "display_name": "Python 3 (ipykernel)",
   "language": "python",
   "name": "python3"
  },
  "language_info": {
   "codemirror_mode": {
    "name": "ipython",
    "version": 3
   },
   "file_extension": ".py",
   "mimetype": "text/x-python",
   "name": "python",
   "nbconvert_exporter": "python",
   "pygments_lexer": "ipython3",
   "version": "3.9.7"
  }
 },
 "nbformat": 4,
 "nbformat_minor": 5
}
